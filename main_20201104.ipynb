{
 "cells": [
  {
   "cell_type": "markdown",
   "metadata": {},
   "source": [
    "Change point\n",
    "1. Use Cross varidation\n",
    "2. Decrease size of code\n",
    "---accuracy 0.76794---"
   ]
  },
  {
   "cell_type": "code",
   "execution_count": 1,
   "metadata": {},
   "outputs": [],
   "source": [
    "import numpy as np\n",
    "import pandas as pd\n",
    "train = pd.read_csv('./data/train.csv')\n",
    "test = pd.read_csv('./data/test.csv')"
   ]
  },
  {
   "cell_type": "code",
   "execution_count": 2,
   "metadata": {},
   "outputs": [],
   "source": [
    "train_x = train.drop(['Survived'],axis=1)\n",
    "train_y = train['Survived']\n",
    "data = pd.concat([train_x,test],sort=False)\n",
    "data.drop(['PassengerId','Name','Ticket','Cabin'],axis=1,inplace=True)\n",
    "data['Sex'].replace(['male','female'],[0,1],inplace=True)\n",
    "data['Embarked'].fillna(('S'),inplace=True)\n",
    "data['Embarked'].replace(['S','C','Q'],[0,1,2],inplace=True)"
   ]
  },
  {
   "cell_type": "code",
   "execution_count": 3,
   "metadata": {},
   "outputs": [],
   "source": [
    "train_x = data[:len(train)]\n",
    "test_x = data[len(train):]"
   ]
  },
  {
   "cell_type": "code",
   "execution_count": 4,
   "metadata": {},
   "outputs": [],
   "source": [
    "from sklearn.metrics import log_loss,accuracy_score\n",
    "from sklearn.model_selection import KFold"
   ]
  },
  {
   "cell_type": "code",
   "execution_count": 5,
   "metadata": {},
   "outputs": [],
   "source": [
    "#List to save score of each fold\n",
    "scores_accuracy = []\n",
    "scores_logloss = []\n",
    "#Do cross varidation???\n",
    "kf = KFold(n_splits=4,shuffle=True,random_state=71)"
   ]
  },
  {
   "cell_type": "code",
   "execution_count": 6,
   "metadata": {},
   "outputs": [],
   "source": [
    "from xgboost import XGBClassifier"
   ]
  },
  {
   "cell_type": "code",
   "execution_count": 8,
   "metadata": {},
   "outputs": [],
   "source": [
    "for tr_idx,va_idx in kf.split(train_x):\n",
    "    #iloc can select row and column(0~).\n",
    "    tr_x ,va_x = train_x.iloc[tr_idx],train_x.iloc[va_idx]\n",
    "    tr_y ,va_y = train_y.iloc[tr_idx],train_y.iloc[va_idx]\n",
    "    \n",
    "    model = XGBClassifier(n_estimators=20,random_state=71)\n",
    "    model.fit(tr_x,tr_y)\n",
    "    \n",
    "    #Output predict value as %.\n",
    "    va_pred = model.predict_proba(va_x)[:,1]\n",
    "    logloss = log_loss(va_y,va_pred)\n",
    "    accuracy = accuracy_score(va_y,va_pred>0.5)\n",
    "    \n",
    "    scores_logloss.append(logloss)\n",
    "    scores_accuracy.append(accuracy)\n",
    "    "
   ]
  },
  {
   "cell_type": "code",
   "execution_count": 9,
   "metadata": {},
   "outputs": [
    {
     "name": "stdout",
     "output_type": "stream",
     "text": [
      "logloss:0.4358,accuracy:0.8204\n"
     ]
    }
   ],
   "source": [
    "#Output mean of each fold score.\n",
    "logloss = np.mean(scores_logloss)\n",
    "accuracy = np.mean(scores_accuracy)\n",
    "print(f'logloss:{logloss:.4f},accuracy:{accuracy:.4f}')"
   ]
  },
  {
   "cell_type": "code",
   "execution_count": 13,
   "metadata": {},
   "outputs": [],
   "source": [
    "pred = model.predict_proba(test_x)[:,1]"
   ]
  },
  {
   "cell_type": "code",
   "execution_count": 15,
   "metadata": {},
   "outputs": [
    {
     "data": {
      "text/plain": [
       "array([0, 0, 0, 0, 0, 0, 0, 0, 0, 0, 0, 0, 1, 0, 1, 1, 0, 0, 1, 0])"
      ]
     },
     "execution_count": 15,
     "metadata": {},
     "output_type": "execute_result"
    }
   ],
   "source": [
    "pred_label = np.where(pred>0.5,1,0)\n",
    "pred_label[:20]"
   ]
  },
  {
   "cell_type": "code",
   "execution_count": 16,
   "metadata": {},
   "outputs": [],
   "source": [
    "submission = pd.DataFrame({'PassengerId':test['PassengerId'],'Survived':pred_label})"
   ]
  },
  {
   "cell_type": "code",
   "execution_count": 18,
   "metadata": {},
   "outputs": [],
   "source": [
    "submission.to_csv('submission20201104.csv',index=False)"
   ]
  },
  {
   "cell_type": "code",
   "execution_count": null,
   "metadata": {},
   "outputs": [],
   "source": []
  }
 ],
 "metadata": {
  "kernelspec": {
   "display_name": "Python 3",
   "language": "python",
   "name": "python3"
  },
  "language_info": {
   "codemirror_mode": {
    "name": "ipython",
    "version": 3
   },
   "file_extension": ".py",
   "mimetype": "text/x-python",
   "name": "python",
   "nbconvert_exporter": "python",
   "pygments_lexer": "ipython3",
   "version": "3.8.5"
  }
 },
 "nbformat": 4,
 "nbformat_minor": 4
}
